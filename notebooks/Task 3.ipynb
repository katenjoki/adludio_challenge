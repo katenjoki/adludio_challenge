{
 "cells": [
  {
   "cell_type": "markdown",
   "id": "ceb4b67e",
   "metadata": {},
   "source": [
    "We now want to know the level of decisiveness of the four categorical variables \n",
    "* AdFormat\n",
    "* FoldPosition\n",
    "* OS\n",
    "* DeviceType on whether a user will engage with an ad or not.\n"
   ]
  },
  {
   "cell_type": "code",
   "execution_count": 32,
   "id": "0e3326d0",
   "metadata": {},
   "outputs": [],
   "source": [
    "import pandas as pd\n",
    "import numpy as np\n",
    "import seaborn as sns\n",
    "import matplotlib.pyplot as plt\n",
    "import warnings\n",
    "warnings.filterwarnings('ignore')"
   ]
  },
  {
   "cell_type": "code",
   "execution_count": 2,
   "id": "b9627426",
   "metadata": {},
   "outputs": [],
   "source": [
    "data = pd.read_csv(\"../data/ad_data.csv\")"
   ]
  },
  {
   "cell_type": "code",
   "execution_count": 3,
   "id": "952045c3",
   "metadata": {},
   "outputs": [
    {
     "data": {
      "text/plain": [
       "Index(['Unnamed: 0', 'CampaignId', 'AdGroupId', 'AudienceID', 'CreativeId',\n",
       "       'AdFormat', 'Site', 'FoldPosition', 'Region', 'City', 'DeviceType',\n",
       "       'OSFamily', 'OS', 'Browser', 'DeviceMake', 'AdvertiserCurrency',\n",
       "       'click', 'engagement', 'video-end', 'video-start', 'engagement_rate',\n",
       "       'hour'],\n",
       "      dtype='object')"
      ]
     },
     "execution_count": 3,
     "metadata": {},
     "output_type": "execute_result"
    }
   ],
   "source": [
    "data.columns"
   ]
  },
  {
   "cell_type": "code",
   "execution_count": 4,
   "id": "9e561514",
   "metadata": {
    "scrolled": true
   },
   "outputs": [
    {
     "data": {
      "text/html": [
       "<div>\n",
       "<style scoped>\n",
       "    .dataframe tbody tr th:only-of-type {\n",
       "        vertical-align: middle;\n",
       "    }\n",
       "\n",
       "    .dataframe tbody tr th {\n",
       "        vertical-align: top;\n",
       "    }\n",
       "\n",
       "    .dataframe thead th {\n",
       "        text-align: right;\n",
       "    }\n",
       "</style>\n",
       "<table border=\"1\" class=\"dataframe\">\n",
       "  <thead>\n",
       "    <tr style=\"text-align: right;\">\n",
       "      <th></th>\n",
       "      <th>AdFormat</th>\n",
       "      <th>FoldPosition</th>\n",
       "      <th>OS</th>\n",
       "      <th>DeviceType</th>\n",
       "      <th>engagement</th>\n",
       "    </tr>\n",
       "  </thead>\n",
       "  <tbody>\n",
       "    <tr>\n",
       "      <th>0</th>\n",
       "      <td>300x250</td>\n",
       "      <td>4</td>\n",
       "      <td>173.0</td>\n",
       "      <td>4</td>\n",
       "      <td>0</td>\n",
       "    </tr>\n",
       "    <tr>\n",
       "      <th>1</th>\n",
       "      <td>300x250</td>\n",
       "      <td>2</td>\n",
       "      <td>173.0</td>\n",
       "      <td>4</td>\n",
       "      <td>0</td>\n",
       "    </tr>\n",
       "    <tr>\n",
       "      <th>2</th>\n",
       "      <td>300x250</td>\n",
       "      <td>3</td>\n",
       "      <td>156.0</td>\n",
       "      <td>4</td>\n",
       "      <td>0</td>\n",
       "    </tr>\n",
       "    <tr>\n",
       "      <th>3</th>\n",
       "      <td>300x250</td>\n",
       "      <td>4</td>\n",
       "      <td>101.0</td>\n",
       "      <td>4</td>\n",
       "      <td>0</td>\n",
       "    </tr>\n",
       "    <tr>\n",
       "      <th>4</th>\n",
       "      <td>300x250</td>\n",
       "      <td>3</td>\n",
       "      <td>101.0</td>\n",
       "      <td>4</td>\n",
       "      <td>1</td>\n",
       "    </tr>\n",
       "  </tbody>\n",
       "</table>\n",
       "</div>"
      ],
      "text/plain": [
       "  AdFormat  FoldPosition     OS  DeviceType  engagement\n",
       "0  300x250             4  173.0           4           0\n",
       "1  300x250             2  173.0           4           0\n",
       "2  300x250             3  156.0           4           0\n",
       "3  300x250             4  101.0           4           0\n",
       "4  300x250             3  101.0           4           1"
      ]
     },
     "execution_count": 4,
     "metadata": {},
     "output_type": "execute_result"
    }
   ],
   "source": [
    "df = data[['AdFormat','FoldPosition','OS','DeviceType','engagement']]\n",
    "df.head()"
   ]
  },
  {
   "cell_type": "code",
   "execution_count": 30,
   "id": "4550c127",
   "metadata": {},
   "outputs": [],
   "source": [
    "def label_engage(row):\n",
    "    if row['engagement']==1:\n",
    "        return 0\n",
    "    else:\n",
    "        return 1\n",
    "    \n",
    "df['no_engagement'] = df.apply(label_engage,axis=1)"
   ]
  },
  {
   "cell_type": "code",
   "execution_count": 17,
   "id": "372f0beb",
   "metadata": {},
   "outputs": [],
   "source": [
    "#convert OS from float to int\n",
    "df.OS = df.OS.astype('Int64')"
   ]
  },
  {
   "cell_type": "code",
   "execution_count": 5,
   "id": "4c15f5d3",
   "metadata": {},
   "outputs": [
    {
     "data": {
      "text/plain": [
       "AdFormat         2\n",
       "FoldPosition     3\n",
       "OS              49\n",
       "DeviceType       3\n",
       "engagement       2\n",
       "dtype: int64"
      ]
     },
     "execution_count": 5,
     "metadata": {},
     "output_type": "execute_result"
    }
   ],
   "source": [
    "#get number of unique values per feature\n",
    "df.T.apply(lambda x: x.nunique(),axis=1)"
   ]
  },
  {
   "cell_type": "markdown",
   "id": "dea2f6c2",
   "metadata": {},
   "source": [
    "**Note: all the variables selected happen to be categorical**\n",
    "\n",
    "We use statistical tests to determine whether the output variable is dependent or independent of the input variables."
   ]
  },
  {
   "cell_type": "code",
   "execution_count": 27,
   "id": "f4db6ef6",
   "metadata": {},
   "outputs": [
    {
     "data": {
      "text/html": [
       "<div>\n",
       "<style scoped>\n",
       "    .dataframe tbody tr th:only-of-type {\n",
       "        vertical-align: middle;\n",
       "    }\n",
       "\n",
       "    .dataframe tbody tr th {\n",
       "        vertical-align: top;\n",
       "    }\n",
       "\n",
       "    .dataframe thead th {\n",
       "        text-align: right;\n",
       "    }\n",
       "</style>\n",
       "<table border=\"1\" class=\"dataframe\">\n",
       "  <thead>\n",
       "    <tr style=\"text-align: right;\">\n",
       "      <th></th>\n",
       "      <th>AdFormat</th>\n",
       "      <th>FoldPosition</th>\n",
       "      <th>OS</th>\n",
       "      <th>DeviceType</th>\n",
       "    </tr>\n",
       "    <tr>\n",
       "      <th>engagement</th>\n",
       "      <th></th>\n",
       "      <th></th>\n",
       "      <th></th>\n",
       "      <th></th>\n",
       "    </tr>\n",
       "  </thead>\n",
       "  <tbody>\n",
       "    <tr>\n",
       "      <th>0</th>\n",
       "      <td>22988</td>\n",
       "      <td>64666</td>\n",
       "      <td>386393</td>\n",
       "      <td>5972</td>\n",
       "    </tr>\n",
       "    <tr>\n",
       "      <th>1</th>\n",
       "      <td>5393</td>\n",
       "      <td>10012</td>\n",
       "      <td>52619</td>\n",
       "      <td>90</td>\n",
       "    </tr>\n",
       "  </tbody>\n",
       "</table>\n",
       "</div>"
      ],
      "text/plain": [
       "            AdFormat  FoldPosition      OS  DeviceType\n",
       "engagement                                            \n",
       "0              22988         64666  386393        5972\n",
       "1               5393         10012   52619          90"
      ]
     },
     "execution_count": 27,
     "metadata": {},
     "output_type": "execute_result"
    }
   ],
   "source": [
    "#Creating a contingency table with a summary of the observed outcomes\n",
    "cat.groupby('engagement').sum()"
   ]
  },
  {
   "cell_type": "code",
   "execution_count": 29,
   "id": "b53ea599",
   "metadata": {},
   "outputs": [
    {
     "data": {
      "text/html": [
       "<div>\n",
       "<style scoped>\n",
       "    .dataframe tbody tr th:only-of-type {\n",
       "        vertical-align: middle;\n",
       "    }\n",
       "\n",
       "    .dataframe tbody tr th {\n",
       "        vertical-align: top;\n",
       "    }\n",
       "\n",
       "    .dataframe thead th {\n",
       "        text-align: right;\n",
       "    }\n",
       "</style>\n",
       "<table border=\"1\" class=\"dataframe\">\n",
       "  <thead>\n",
       "    <tr style=\"text-align: right;\">\n",
       "      <th></th>\n",
       "      <th>AdFormat</th>\n",
       "      <th>FoldPosition</th>\n",
       "      <th>OS</th>\n",
       "      <th>DeviceType</th>\n",
       "      <th>engagement</th>\n",
       "    </tr>\n",
       "  </thead>\n",
       "  <tbody>\n",
       "    <tr>\n",
       "      <th>4</th>\n",
       "      <td>300x250</td>\n",
       "      <td>3</td>\n",
       "      <td>101</td>\n",
       "      <td>4</td>\n",
       "      <td>1</td>\n",
       "    </tr>\n",
       "    <tr>\n",
       "      <th>5</th>\n",
       "      <td>300x250</td>\n",
       "      <td>4</td>\n",
       "      <td>162</td>\n",
       "      <td>4</td>\n",
       "      <td>1</td>\n",
       "    </tr>\n",
       "    <tr>\n",
       "      <th>7</th>\n",
       "      <td>320x480</td>\n",
       "      <td>3</td>\n",
       "      <td>162</td>\n",
       "      <td>4</td>\n",
       "      <td>1</td>\n",
       "    </tr>\n",
       "    <tr>\n",
       "      <th>9</th>\n",
       "      <td>320x480</td>\n",
       "      <td>4</td>\n",
       "      <td>101</td>\n",
       "      <td>4</td>\n",
       "      <td>1</td>\n",
       "    </tr>\n",
       "    <tr>\n",
       "      <th>12</th>\n",
       "      <td>320x480</td>\n",
       "      <td>4</td>\n",
       "      <td>156</td>\n",
       "      <td>4</td>\n",
       "      <td>1</td>\n",
       "    </tr>\n",
       "    <tr>\n",
       "      <th>...</th>\n",
       "      <td>...</td>\n",
       "      <td>...</td>\n",
       "      <td>...</td>\n",
       "      <td>...</td>\n",
       "      <td>...</td>\n",
       "    </tr>\n",
       "    <tr>\n",
       "      <th>96471</th>\n",
       "      <td>320x480</td>\n",
       "      <td>4</td>\n",
       "      <td>101</td>\n",
       "      <td>4</td>\n",
       "      <td>1</td>\n",
       "    </tr>\n",
       "    <tr>\n",
       "      <th>96474</th>\n",
       "      <td>300x250</td>\n",
       "      <td>3</td>\n",
       "      <td>162</td>\n",
       "      <td>4</td>\n",
       "      <td>1</td>\n",
       "    </tr>\n",
       "    <tr>\n",
       "      <th>96483</th>\n",
       "      <td>300x250</td>\n",
       "      <td>2</td>\n",
       "      <td>162</td>\n",
       "      <td>4</td>\n",
       "      <td>1</td>\n",
       "    </tr>\n",
       "    <tr>\n",
       "      <th>96501</th>\n",
       "      <td>320x480</td>\n",
       "      <td>3</td>\n",
       "      <td>174</td>\n",
       "      <td>4</td>\n",
       "      <td>1</td>\n",
       "    </tr>\n",
       "    <tr>\n",
       "      <th>96506</th>\n",
       "      <td>300x250</td>\n",
       "      <td>3</td>\n",
       "      <td>155</td>\n",
       "      <td>4</td>\n",
       "      <td>1</td>\n",
       "    </tr>\n",
       "  </tbody>\n",
       "</table>\n",
       "<p>12420 rows × 5 columns</p>\n",
       "</div>"
      ],
      "text/plain": [
       "      AdFormat  FoldPosition   OS  DeviceType  engagement\n",
       "4      300x250             3  101           4           1\n",
       "5      300x250             4  162           4           1\n",
       "7      320x480             3  162           4           1\n",
       "9      320x480             4  101           4           1\n",
       "12     320x480             4  156           4           1\n",
       "...        ...           ...  ...         ...         ...\n",
       "96471  320x480             4  101           4           1\n",
       "96474  300x250             3  162           4           1\n",
       "96483  300x250             2  162           4           1\n",
       "96501  320x480             3  174           4           1\n",
       "96506  300x250             3  155           4           1\n",
       "\n",
       "[12420 rows x 5 columns]"
      ]
     },
     "execution_count": 29,
     "metadata": {},
     "output_type": "execute_result"
    }
   ],
   "source": [
    "engage = df[df.engagement==1]\n",
    "not_engage = df[df.engagement==0]\n",
    "engage"
   ]
  },
  {
   "cell_type": "code",
   "execution_count": 25,
   "id": "643904ce",
   "metadata": {},
   "outputs": [],
   "source": [
    "from scipy.stats import chisquare\n",
    "cat = df.apply(lambda x: pd.factorize(x)[0])"
   ]
  },
  {
   "cell_type": "code",
   "execution_count": 11,
   "id": "5a123e3b",
   "metadata": {},
   "outputs": [],
   "source": [
    "#~~~Plotting functions~~~\n",
    "#pie chart plot\n",
    "def plot_pie(data:pd.DataFrame,col:str,n:int)->None:\n",
    "    data[col].value_counts().plot(kind = 'pie',autopct = '%1.1f%%',explode=[0.05]*n,\n",
    "                                colormap = 'summer', figsize = (10,10)).legend()\n",
    "    plt.title(f'Distribution of {col}',size=15)\n",
    "    plt.show()\n",
    "    \n",
    "#count plot\n",
    "def plot_count(data:pd.DataFrame,col1:str):\n",
    "    sns.countplot(data=data, x=col1,palette='summer',hue='engagement')\n",
    "    plt.title(f'Distribution of {col1}', size=16, fontweight='bold')\n",
    "    plt.xticks(rotation=70)\n",
    "    plt.show()"
   ]
  },
  {
   "cell_type": "code",
   "execution_count": 36,
   "id": "b86d070a",
   "metadata": {},
   "outputs": [
    {
     "data": {
      "image/png": "[encoded data removed]",
      "text/plain": [
       "<Figure size 432x288 with 1 Axes>"
      ]
     },
     "metadata": {
      "needs_background": "light"
     },
     "output_type": "display_data"
    },
    {
     "data": {
      "image/png": "[encoded data removed]",
      "text/plain": [
       "<Figure size 432x288 with 1 Axes>"
      ]
     },
     "metadata": {
      "needs_background": "light"
     },
     "output_type": "display_data"
    }
   ],
   "source": [
    "plot_count(df,'AdFormat')\n",
    "plot_count(df,'FoldPosition')"
   ]
  },
  {
   "cell_type": "code",
   "execution_count": 37,
   "id": "d139a075",
   "metadata": {},
   "outputs": [
    {
     "data": {
      "image/png": "[encoded data removed]",
      "text/plain": [
       "<Figure size 432x288 with 1 Axes>"
      ]
     },
     "metadata": {
      "needs_background": "light"
     },
     "output_type": "display_data"
    },
    {
     "data": {
      "image/png": "[encoded data removed]",
      "text/plain": [
       "<Figure size 432x288 with 1 Axes>"
      ]
     },
     "metadata": {
      "needs_background": "light"
     },
     "output_type": "display_data"
    }
   ],
   "source": [
    "plot_count(df,'engagement')\n",
    "plot_count(df,'no_engagement')"
   ]
  },
  {
   "cell_type": "markdown",
   "id": "5a339a7e",
   "metadata": {},
   "source": [
    "Most sites generally had no engagement"
   ]
  }
 ],
 "metadata": {
  "kernelspec": {
   "display_name": "Python 3",
   "language": "python",
   "name": "python3"
  },
  "language_info": {
   "codemirror_mode": {
    "name": "ipython",
    "version": 3
   },
   "file_extension": ".py",
   "mimetype": "text/x-python",
   "name": "python",
   "nbconvert_exporter": "python",
   "pygments_lexer": "ipython3",
   "version": "3.7.4"
  }
 },
 "nbformat": 4,
 "nbformat_minor": 5
}
