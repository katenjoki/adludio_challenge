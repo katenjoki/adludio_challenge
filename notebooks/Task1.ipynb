{
 "cells": [
  {
   "cell_type": "code",
   "execution_count": 1,
   "id": "80554916",
   "metadata": {},
   "outputs": [],
   "source": [
    "import pandas as pd\n",
    "pd.set_option('max_column', None)\n",
    "pd.set_option('display.float_format',lambda x:'%5f'%x)\n",
    "\n",
    "import numpy as np\n",
    "import warnings\n",
    "warnings.filterwarnings('ignore')\n",
    "\n",
    "import seaborn as sns\n",
    "import matplotlib.pyplot as plt\n",
    "from matplotlib.pyplot import xticks\n",
    "\n",
    "from sklearn.linear_model import LogisticRegression\n",
    "from sklearn.preprocessing import StandardScaler"
   ]
  },
  {
   "cell_type": "code",
   "execution_count": 2,
   "id": "a82f3710",
   "metadata": {
    "scrolled": true
   },
   "outputs": [
    {
     "data": {
      "text/html": [
       "<div>\n",
       "<style scoped>\n",
       "    .dataframe tbody tr th:only-of-type {\n",
       "        vertical-align: middle;\n",
       "    }\n",
       "\n",
       "    .dataframe tbody tr th {\n",
       "        vertical-align: top;\n",
       "    }\n",
       "\n",
       "    .dataframe thead th {\n",
       "        text-align: right;\n",
       "    }\n",
       "</style>\n",
       "<table border=\"1\" class=\"dataframe\">\n",
       "  <thead>\n",
       "    <tr style=\"text-align: right;\">\n",
       "      <th></th>\n",
       "      <th>Unnamed: 0</th>\n",
       "      <th>LogEntryTime</th>\n",
       "      <th>AdvertiserId</th>\n",
       "      <th>CampaignId</th>\n",
       "      <th>AdGroupId</th>\n",
       "      <th>AudienceID</th>\n",
       "      <th>CreativeId</th>\n",
       "      <th>AdFormat</th>\n",
       "      <th>Frequency</th>\n",
       "      <th>Site</th>\n",
       "      <th>FoldPosition</th>\n",
       "      <th>Country</th>\n",
       "      <th>Region</th>\n",
       "      <th>City</th>\n",
       "      <th>DeviceType</th>\n",
       "      <th>OSFamily</th>\n",
       "      <th>OS</th>\n",
       "      <th>Browser</th>\n",
       "      <th>DeviceMake</th>\n",
       "      <th>AdvertiserCurrency</th>\n",
       "      <th>click</th>\n",
       "      <th>engagement</th>\n",
       "      <th>video-end</th>\n",
       "      <th>video-start</th>\n",
       "    </tr>\n",
       "  </thead>\n",
       "  <tbody>\n",
       "    <tr>\n",
       "      <th>55551</th>\n",
       "      <td>37a3ad1b-a464-4394-a5ce-d0e24b7711c4</td>\n",
       "      <td>2021-09-24 20:36:18</td>\n",
       "      <td>868ko1s</td>\n",
       "      <td>t29si1w</td>\n",
       "      <td>e9qf2dm</td>\n",
       "      <td>0</td>\n",
       "      <td>lconq2bf</td>\n",
       "      <td>300x250</td>\n",
       "      <td>0</td>\n",
       "      <td>oldworldgardenfarms.com</td>\n",
       "      <td>2</td>\n",
       "      <td>United States</td>\n",
       "      <td>New York</td>\n",
       "      <td>Staten Island</td>\n",
       "      <td>4</td>\n",
       "      <td>5.000000</td>\n",
       "      <td>174.000000</td>\n",
       "      <td>15.000000</td>\n",
       "      <td>Apple</td>\n",
       "      <td>0.007190</td>\n",
       "      <td>0</td>\n",
       "      <td>0</td>\n",
       "      <td>0</td>\n",
       "      <td>0</td>\n",
       "    </tr>\n",
       "    <tr>\n",
       "      <th>11949</th>\n",
       "      <td>0bb036fb-46ef-4021-a085-182f0dc2c44f</td>\n",
       "      <td>2021-09-27 12:49:03</td>\n",
       "      <td>868ko1s</td>\n",
       "      <td>awbu4q4</td>\n",
       "      <td>oropida</td>\n",
       "      <td>lnqjhqm</td>\n",
       "      <td>n8qm1pum</td>\n",
       "      <td>300x250</td>\n",
       "      <td>0</td>\n",
       "      <td>www.thesun.ie</td>\n",
       "      <td>4</td>\n",
       "      <td>United States</td>\n",
       "      <td>New York</td>\n",
       "      <td>The Bronx</td>\n",
       "      <td>4</td>\n",
       "      <td>6.000000</td>\n",
       "      <td>156.000000</td>\n",
       "      <td>6.000000</td>\n",
       "      <td>Nokia</td>\n",
       "      <td>0.008240</td>\n",
       "      <td>0</td>\n",
       "      <td>0</td>\n",
       "      <td>0</td>\n",
       "      <td>0</td>\n",
       "    </tr>\n",
       "    <tr>\n",
       "      <th>21964</th>\n",
       "      <td>15db3742-05d3-4cd6-a187-1a91e7771252</td>\n",
       "      <td>2021-09-21 19:07:19</td>\n",
       "      <td>868ko1s</td>\n",
       "      <td>758ifo0</td>\n",
       "      <td>6zrhqkk</td>\n",
       "      <td>0</td>\n",
       "      <td>bgkw47cl</td>\n",
       "      <td>300x250</td>\n",
       "      <td>0</td>\n",
       "      <td>lifestyleofafoodie.com</td>\n",
       "      <td>2</td>\n",
       "      <td>United States</td>\n",
       "      <td>Pennsylvania</td>\n",
       "      <td>Morgantown</td>\n",
       "      <td>4</td>\n",
       "      <td>5.000000</td>\n",
       "      <td>174.000000</td>\n",
       "      <td>7.000000</td>\n",
       "      <td>Apple</td>\n",
       "      <td>0.007123</td>\n",
       "      <td>0</td>\n",
       "      <td>0</td>\n",
       "      <td>0</td>\n",
       "      <td>0</td>\n",
       "    </tr>\n",
       "    <tr>\n",
       "      <th>49812</th>\n",
       "      <td>31e2a3cb-2378-4aab-ba6b-3c34f2d74c82</td>\n",
       "      <td>2021-09-26 11:53:48</td>\n",
       "      <td>868ko1s</td>\n",
       "      <td>shg01yl</td>\n",
       "      <td>ckz8efm</td>\n",
       "      <td>0</td>\n",
       "      <td>c8zbwnc7</td>\n",
       "      <td>300x250</td>\n",
       "      <td>0</td>\n",
       "      <td>www.fox4now.com</td>\n",
       "      <td>2</td>\n",
       "      <td>United States</td>\n",
       "      <td>New Hampshire</td>\n",
       "      <td>Brookline</td>\n",
       "      <td>4</td>\n",
       "      <td>5.000000</td>\n",
       "      <td>101.000000</td>\n",
       "      <td>7.000000</td>\n",
       "      <td>Apple</td>\n",
       "      <td>0.007444</td>\n",
       "      <td>0</td>\n",
       "      <td>0</td>\n",
       "      <td>0</td>\n",
       "      <td>0</td>\n",
       "    </tr>\n",
       "    <tr>\n",
       "      <th>10033</th>\n",
       "      <td>09cdd8e6-c142-4225-adb0-8e376878f843</td>\n",
       "      <td>2021-09-22 17:52:37</td>\n",
       "      <td>868ko1s</td>\n",
       "      <td>t29si1w</td>\n",
       "      <td>q8mek2e</td>\n",
       "      <td>0</td>\n",
       "      <td>4i46fl6r</td>\n",
       "      <td>320x480</td>\n",
       "      <td>0</td>\n",
       "      <td>www.imore.com</td>\n",
       "      <td>4</td>\n",
       "      <td>United States</td>\n",
       "      <td>New Jersey</td>\n",
       "      <td>Highland Lakes</td>\n",
       "      <td>4</td>\n",
       "      <td>5.000000</td>\n",
       "      <td>174.000000</td>\n",
       "      <td>7.000000</td>\n",
       "      <td>Apple</td>\n",
       "      <td>0.006676</td>\n",
       "      <td>0</td>\n",
       "      <td>1</td>\n",
       "      <td>1</td>\n",
       "      <td>1</td>\n",
       "    </tr>\n",
       "  </tbody>\n",
       "</table>\n",
       "</div>"
      ],
      "text/plain": [
       "                                 Unnamed: 0         LogEntryTime AdvertiserId  \\\n",
       "55551  37a3ad1b-a464-4394-a5ce-d0e24b7711c4  2021-09-24 20:36:18      868ko1s   \n",
       "11949  0bb036fb-46ef-4021-a085-182f0dc2c44f  2021-09-27 12:49:03      868ko1s   \n",
       "21964  15db3742-05d3-4cd6-a187-1a91e7771252  2021-09-21 19:07:19      868ko1s   \n",
       "49812  31e2a3cb-2378-4aab-ba6b-3c34f2d74c82  2021-09-26 11:53:48      868ko1s   \n",
       "10033  09cdd8e6-c142-4225-adb0-8e376878f843  2021-09-22 17:52:37      868ko1s   \n",
       "\n",
       "      CampaignId AdGroupId AudienceID CreativeId AdFormat  Frequency  \\\n",
       "55551    t29si1w   e9qf2dm          0   lconq2bf  300x250          0   \n",
       "11949    awbu4q4   oropida    lnqjhqm   n8qm1pum  300x250          0   \n",
       "21964    758ifo0   6zrhqkk          0   bgkw47cl  300x250          0   \n",
       "49812    shg01yl   ckz8efm          0   c8zbwnc7  300x250          0   \n",
       "10033    t29si1w   q8mek2e          0   4i46fl6r  320x480          0   \n",
       "\n",
       "                          Site  FoldPosition        Country         Region  \\\n",
       "55551  oldworldgardenfarms.com             2  United States       New York   \n",
       "11949            www.thesun.ie             4  United States       New York   \n",
       "21964   lifestyleofafoodie.com             2  United States   Pennsylvania   \n",
       "49812          www.fox4now.com             2  United States  New Hampshire   \n",
       "10033            www.imore.com             4  United States     New Jersey   \n",
       "\n",
       "                 City  DeviceType  OSFamily         OS   Browser DeviceMake  \\\n",
       "55551   Staten Island           4  5.000000 174.000000 15.000000      Apple   \n",
       "11949       The Bronx           4  6.000000 156.000000  6.000000      Nokia   \n",
       "21964      Morgantown           4  5.000000 174.000000  7.000000      Apple   \n",
       "49812       Brookline           4  5.000000 101.000000  7.000000      Apple   \n",
       "10033  Highland Lakes           4  5.000000 174.000000  7.000000      Apple   \n",
       "\n",
       "       AdvertiserCurrency  click  engagement  video-end  video-start  \n",
       "55551            0.007190      0           0          0            0  \n",
       "11949            0.008240      0           0          0            0  \n",
       "21964            0.007123      0           0          0            0  \n",
       "49812            0.007444      0           0          0            0  \n",
       "10033            0.006676      0           1          1            1  "
      ]
     },
     "execution_count": 2,
     "metadata": {},
     "output_type": "execute_result"
    }
   ],
   "source": [
    "df = pd.read_csv(\"../data/impression_log.csv\")\n",
    "df.sample(5)"
   ]
  },
  {
   "cell_type": "markdown",
   "id": "acbb313d",
   "metadata": {},
   "source": [
    "* A **campaign** is an ad placement session for a single client and single product. \n",
    "* The **campaignId** is used to distinguish different campaigns. \n",
    "* Within a single campaign, there could be multiple strategies who are served under what is called an **adgroup**"
   ]
  },
  {
   "cell_type": "code",
   "execution_count": 3,
   "id": "f271de5f",
   "metadata": {},
   "outputs": [
    {
     "data": {
      "text/plain": [
       "Unnamed: 0            99986\n",
       "LogEntryTime          89751\n",
       "AdvertiserId              1\n",
       "CampaignId               13\n",
       "AdGroupId                25\n",
       "AudienceID                6\n",
       "CreativeId              282\n",
       "AdFormat                  2\n",
       "Frequency                 1\n",
       "Site                   8538\n",
       "FoldPosition              3\n",
       "Country                   1\n",
       "Region                   11\n",
       "City                   1295\n",
       "DeviceType                3\n",
       "OSFamily                  6\n",
       "OS                       49\n",
       "Browser                   8\n",
       "DeviceMake              130\n",
       "AdvertiserCurrency    55156\n",
       "click                     2\n",
       "engagement                2\n",
       "video-end                 2\n",
       "video-start               2\n",
       "dtype: int64"
      ]
     },
     "execution_count": 3,
     "metadata": {},
     "output_type": "execute_result"
    }
   ],
   "source": [
    "#Finding number of unique values per column\n",
    "df.T.apply(lambda x: x.nunique(),axis=1)"
   ]
  },
  {
   "cell_type": "code",
   "execution_count": 4,
   "id": "837afa58",
   "metadata": {},
   "outputs": [
    {
     "data": {
      "text/plain": [
       "(100000, 24)"
      ]
     },
     "execution_count": 4,
     "metadata": {},
     "output_type": "execute_result"
    }
   ],
   "source": [
    "df.shape"
   ]
  },
  {
   "cell_type": "code",
   "execution_count": 5,
   "id": "7c8af21b",
   "metadata": {},
   "outputs": [
    {
     "data": {
      "text/plain": [
       "False"
      ]
     },
     "execution_count": 5,
     "metadata": {},
     "output_type": "execute_result"
    }
   ],
   "source": [
    "#checking duplicates since the id column should be a unique identifier for each row\n",
    "df.rename(columns={'Unnamed: 0':'Id'},inplace=True)\n",
    "sum(df.duplicated(subset='Id'))==0"
   ]
  },
  {
   "cell_type": "code",
   "execution_count": 6,
   "id": "bf2f69be",
   "metadata": {},
   "outputs": [
    {
     "data": {
      "text/plain": [
       "True"
      ]
     },
     "execution_count": 6,
     "metadata": {},
     "output_type": "execute_result"
    }
   ],
   "source": [
    "#drop the duplicates\n",
    "df.drop_duplicates(subset = \"Id\", keep = False, inplace = True)\n",
    "\n",
    "#confirm there are no more duplicates\n",
    "sum(df.duplicated(subset='Id'))==0"
   ]
  },
  {
   "cell_type": "markdown",
   "id": "0215560f",
   "metadata": {},
   "source": [
    "**Dealing with null values**"
   ]
  },
  {
   "cell_type": "code",
   "execution_count": 7,
   "id": "237bb0de",
   "metadata": {},
   "outputs": [
    {
     "data": {
      "text/plain": [
       "AudienceID    3454\n",
       "Region           1\n",
       "City             1\n",
       "OSFamily         5\n",
       "OS               7\n",
       "Browser          7\n",
       "DeviceMake       7\n",
       "dtype: int64"
      ]
     },
     "execution_count": 7,
     "metadata": {},
     "output_type": "execute_result"
    }
   ],
   "source": [
    "#Returns columns which have null values and their respective counts of null values\n",
    "df[df.columns[df.isnull().any()]].isnull().sum()"
   ]
  },
  {
   "cell_type": "markdown",
   "id": "4475f0ea",
   "metadata": {},
   "source": [
    "* The data has 99,972 rows and 24 columns\n",
    "* A couple of columns have null values, but nothing above 80% of the data\n",
    "* Since all the columns with missing values are categorical features, we replace the null values with the most frequently occuring value"
   ]
  },
  {
   "cell_type": "code",
   "execution_count": 8,
   "id": "640eb71b",
   "metadata": {},
   "outputs": [
    {
     "data": {
      "text/plain": [
       "count       96518\n",
       "unique          6\n",
       "top       lnqjhqm\n",
       "freq        49956\n",
       "Name: AudienceID, dtype: object"
      ]
     },
     "execution_count": 8,
     "metadata": {},
     "output_type": "execute_result"
    }
   ],
   "source": [
    "df.AudienceID.describe()"
   ]
  },
  {
   "cell_type": "code",
   "execution_count": 9,
   "id": "3cb2d481",
   "metadata": {},
   "outputs": [
    {
     "data": {
      "text/plain": [
       "<AxesSubplot:xlabel='AudienceID', ylabel='count'>"
      ]
     },
     "execution_count": 9,
     "metadata": {},
     "output_type": "execute_result"
    },
    {
     "data": {
      "image/png": "[encoded data removed]",
      "text/plain": [
       "<Figure size 432x288 with 1 Axes>"
      ]
     },
     "metadata": {
      "needs_background": "light"
     },
     "output_type": "display_data"
    }
   ],
   "source": [
    "sns.countplot(df.AudienceID)"
   ]
  },
  {
   "cell_type": "markdown",
   "id": "87714b71",
   "metadata": {},
   "source": [
    "Assuming AudienceID describes the target audience for each campaign, replacing the null values with the most frequently occuring value could give us inaccurate results\n",
    "Given we have ~99,900 rows of data we can drop these rows\n",
    "\n",
    "For the rest of the columns we replace the null values with the most frequently occurring value"
   ]
  },
  {
   "cell_type": "code",
   "execution_count": 10,
   "id": "ab7bd1c8",
   "metadata": {},
   "outputs": [
    {
     "data": {
      "text/plain": [
       "False"
      ]
     },
     "execution_count": 10,
     "metadata": {},
     "output_type": "execute_result"
    }
   ],
   "source": [
    "df = df[df.AudienceID.notna()]\n",
    "df.AudienceID.isnull().any()"
   ]
  },
  {
   "cell_type": "code",
   "execution_count": 11,
   "id": "78b9585d",
   "metadata": {},
   "outputs": [
    {
     "name": "stdout",
     "output_type": "stream",
     "text": [
      "Number of remaining null values in the dataframe is 0\n"
     ]
    }
   ],
   "source": [
    "cols = df.columns[df.isnull().any()].to_list()\n",
    "for i in cols:\n",
    "    df[i].fillna(df[i].value_counts().idxmax(),inplace=True)\n",
    "\n",
    "print(\"Number of remaining null values in the dataframe is\",(df.isnull().sum()).sum())"
   ]
  },
  {
   "cell_type": "code",
   "execution_count": 12,
   "id": "2b9f81aa",
   "metadata": {},
   "outputs": [
    {
     "data": {
      "text/html": [
       "<div>\n",
       "<style scoped>\n",
       "    .dataframe tbody tr th:only-of-type {\n",
       "        vertical-align: middle;\n",
       "    }\n",
       "\n",
       "    .dataframe tbody tr th {\n",
       "        vertical-align: top;\n",
       "    }\n",
       "\n",
       "    .dataframe thead th {\n",
       "        text-align: right;\n",
       "    }\n",
       "</style>\n",
       "<table border=\"1\" class=\"dataframe\">\n",
       "  <thead>\n",
       "    <tr style=\"text-align: right;\">\n",
       "      <th></th>\n",
       "      <th>Site</th>\n",
       "      <th>#impressions</th>\n",
       "      <th>engagement</th>\n",
       "      <th>ER</th>\n",
       "    </tr>\n",
       "  </thead>\n",
       "  <tbody>\n",
       "    <tr>\n",
       "      <th>0</th>\n",
       "      <td>1007nashicon.com</td>\n",
       "      <td>2</td>\n",
       "      <td>0</td>\n",
       "      <td>inf</td>\n",
       "    </tr>\n",
       "    <tr>\n",
       "      <th>1</th>\n",
       "      <td>100krecipes.com</td>\n",
       "      <td>14</td>\n",
       "      <td>0</td>\n",
       "      <td>inf</td>\n",
       "    </tr>\n",
       "    <tr>\n",
       "      <th>2</th>\n",
       "      <td>1057thehawk.com</td>\n",
       "      <td>4</td>\n",
       "      <td>0</td>\n",
       "      <td>inf</td>\n",
       "    </tr>\n",
       "    <tr>\n",
       "      <th>3</th>\n",
       "      <td>10babygear.com</td>\n",
       "      <td>1</td>\n",
       "      <td>0</td>\n",
       "      <td>inf</td>\n",
       "    </tr>\n",
       "    <tr>\n",
       "      <th>4</th>\n",
       "      <td>130point.com</td>\n",
       "      <td>3</td>\n",
       "      <td>0</td>\n",
       "      <td>inf</td>\n",
       "    </tr>\n",
       "  </tbody>\n",
       "</table>\n",
       "</div>"
      ],
      "text/plain": [
       "               Site  #impressions  engagement    ER\n",
       "0  1007nashicon.com             2           0   inf\n",
       "1   100krecipes.com            14           0   inf\n",
       "2   1057thehawk.com             4           0   inf\n",
       "3    10babygear.com             1           0   inf\n",
       "4      130point.com             3           0   inf"
      ]
     },
     "execution_count": 12,
     "metadata": {},
     "output_type": "execute_result"
    }
   ],
   "source": [
    "data = df.groupby(\"Site\").agg({\"Site\":\"count\",\"engagement\":\"sum\"}).rename(columns={\"Site\":\"#impressions\"}).reset_index()\n",
    "data[\"ER\"]=data[\"#impressions\"]/data.engagement\n",
    "\n",
    "data.head()"
   ]
  },
  {
   "cell_type": "code",
   "execution_count": 13,
   "id": "2e7d9b7c",
   "metadata": {},
   "outputs": [],
   "source": [
    "'''there are infinite values in the ER column since we divided #impressions by zero meaning the ad on the specific\n",
    "site had no engagement'''\n",
    "data.ER.isin([np.inf,-np.inf]).any()\n",
    "\n",
    "#Replace inf with 0\n",
    "data.ER = data.ER.replace([np.inf,-np.inf],0)"
   ]
  },
  {
   "cell_type": "code",
   "execution_count": 14,
   "id": "a67e94fc",
   "metadata": {},
   "outputs": [],
   "source": [
    "#create a dictionary with Site as keys and engagement rate as values so as to map on new ER column\n",
    "engage = pd.Series(data.ER.values,index=data.Site).to_dict()\n",
    "df['engagement_rate'] = df['Site'].apply(lambda x:engage[x])\n",
    "\n",
    "#generate date features\n",
    "df.rename(columns = {\"LogEntryTime\":\"date\"}, inplace = True)\n",
    "df.date = pd.to_datetime(df.date)\n",
    "df['hour'] = pd.Series(df.date.dt.hour)\n",
    "df.drop([\"date\",\"Country\",\"AdvertiserId\",\"Frequency\",\"Country\",\"Id\"],axis = 1, inplace = True)"
   ]
  },
  {
   "cell_type": "code",
   "execution_count": 15,
   "id": "33b75954",
   "metadata": {
    "scrolled": false
   },
   "outputs": [
    {
     "data": {
      "text/html": [
       "<div>\n",
       "<style scoped>\n",
       "    .dataframe tbody tr th:only-of-type {\n",
       "        vertical-align: middle;\n",
       "    }\n",
       "\n",
       "    .dataframe tbody tr th {\n",
       "        vertical-align: top;\n",
       "    }\n",
       "\n",
       "    .dataframe thead th {\n",
       "        text-align: right;\n",
       "    }\n",
       "</style>\n",
       "<table border=\"1\" class=\"dataframe\">\n",
       "  <thead>\n",
       "    <tr style=\"text-align: right;\">\n",
       "      <th></th>\n",
       "      <th>CampaignId</th>\n",
       "      <th>AdGroupId</th>\n",
       "      <th>AudienceID</th>\n",
       "      <th>CreativeId</th>\n",
       "      <th>AdFormat</th>\n",
       "      <th>Site</th>\n",
       "      <th>FoldPosition</th>\n",
       "      <th>Region</th>\n",
       "      <th>City</th>\n",
       "      <th>DeviceType</th>\n",
       "      <th>OSFamily</th>\n",
       "      <th>OS</th>\n",
       "      <th>Browser</th>\n",
       "      <th>DeviceMake</th>\n",
       "      <th>AdvertiserCurrency</th>\n",
       "      <th>click</th>\n",
       "      <th>engagement</th>\n",
       "      <th>video-end</th>\n",
       "      <th>video-start</th>\n",
       "      <th>engagement_rate</th>\n",
       "      <th>hour</th>\n",
       "    </tr>\n",
       "  </thead>\n",
       "  <tbody>\n",
       "    <tr>\n",
       "      <th>0</th>\n",
       "      <td>t29si1w</td>\n",
       "      <td>e9qf2dm</td>\n",
       "      <td>0</td>\n",
       "      <td>9wkrkl5j</td>\n",
       "      <td>300x250</td>\n",
       "      <td>scrabblewordfinder.org</td>\n",
       "      <td>4</td>\n",
       "      <td>New York</td>\n",
       "      <td>Staten Island</td>\n",
       "      <td>4</td>\n",
       "      <td>5.000000</td>\n",
       "      <td>173.000000</td>\n",
       "      <td>7.000000</td>\n",
       "      <td>Apple</td>\n",
       "      <td>0.006409</td>\n",
       "      <td>0</td>\n",
       "      <td>0</td>\n",
       "      <td>0</td>\n",
       "      <td>0</td>\n",
       "      <td>0.000000</td>\n",
       "      <td>0</td>\n",
       "    </tr>\n",
       "    <tr>\n",
       "      <th>1</th>\n",
       "      <td>fiwemi8</td>\n",
       "      <td>8m750eh</td>\n",
       "      <td>0</td>\n",
       "      <td>zhre4utp</td>\n",
       "      <td>300x250</td>\n",
       "      <td>www.thecoli.com</td>\n",
       "      <td>2</td>\n",
       "      <td>Massachusetts</td>\n",
       "      <td>Milton</td>\n",
       "      <td>4</td>\n",
       "      <td>5.000000</td>\n",
       "      <td>173.000000</td>\n",
       "      <td>7.000000</td>\n",
       "      <td>Apple</td>\n",
       "      <td>0.002778</td>\n",
       "      <td>0</td>\n",
       "      <td>0</td>\n",
       "      <td>0</td>\n",
       "      <td>0</td>\n",
       "      <td>0.000000</td>\n",
       "      <td>2</td>\n",
       "    </tr>\n",
       "    <tr>\n",
       "      <th>2</th>\n",
       "      <td>awbu4q4</td>\n",
       "      <td>oropida</td>\n",
       "      <td>lnqjhqm</td>\n",
       "      <td>ab6spdyi</td>\n",
       "      <td>300x250</td>\n",
       "      <td>www.today.com</td>\n",
       "      <td>3</td>\n",
       "      <td>New York</td>\n",
       "      <td>Brooklyn</td>\n",
       "      <td>4</td>\n",
       "      <td>6.000000</td>\n",
       "      <td>156.000000</td>\n",
       "      <td>6.000000</td>\n",
       "      <td>Samsung</td>\n",
       "      <td>0.008947</td>\n",
       "      <td>0</td>\n",
       "      <td>0</td>\n",
       "      <td>0</td>\n",
       "      <td>0</td>\n",
       "      <td>16.000000</td>\n",
       "      <td>20</td>\n",
       "    </tr>\n",
       "    <tr>\n",
       "      <th>3</th>\n",
       "      <td>t29si1w</td>\n",
       "      <td>e9qf2dm</td>\n",
       "      <td>0</td>\n",
       "      <td>2spj6krt</td>\n",
       "      <td>300x250</td>\n",
       "      <td>www.cbssports.com</td>\n",
       "      <td>4</td>\n",
       "      <td>New York</td>\n",
       "      <td>Queens</td>\n",
       "      <td>4</td>\n",
       "      <td>5.000000</td>\n",
       "      <td>101.000000</td>\n",
       "      <td>7.000000</td>\n",
       "      <td>Apple</td>\n",
       "      <td>0.007673</td>\n",
       "      <td>0</td>\n",
       "      <td>0</td>\n",
       "      <td>0</td>\n",
       "      <td>0</td>\n",
       "      <td>3.342569</td>\n",
       "      <td>16</td>\n",
       "    </tr>\n",
       "    <tr>\n",
       "      <th>4</th>\n",
       "      <td>awbu4q4</td>\n",
       "      <td>oropida</td>\n",
       "      <td>lnqjhqm</td>\n",
       "      <td>ql1q5nq9</td>\n",
       "      <td>300x250</td>\n",
       "      <td>backroadramblers.com</td>\n",
       "      <td>3</td>\n",
       "      <td>New York</td>\n",
       "      <td>The Bronx</td>\n",
       "      <td>4</td>\n",
       "      <td>5.000000</td>\n",
       "      <td>101.000000</td>\n",
       "      <td>7.000000</td>\n",
       "      <td>Apple</td>\n",
       "      <td>0.008852</td>\n",
       "      <td>0</td>\n",
       "      <td>1</td>\n",
       "      <td>1</td>\n",
       "      <td>1</td>\n",
       "      <td>5.000000</td>\n",
       "      <td>14</td>\n",
       "    </tr>\n",
       "  </tbody>\n",
       "</table>\n",
       "</div>"
      ],
      "text/plain": [
       "  CampaignId AdGroupId AudienceID CreativeId AdFormat                    Site  \\\n",
       "0    t29si1w   e9qf2dm          0   9wkrkl5j  300x250  scrabblewordfinder.org   \n",
       "1    fiwemi8   8m750eh          0   zhre4utp  300x250         www.thecoli.com   \n",
       "2    awbu4q4   oropida    lnqjhqm   ab6spdyi  300x250           www.today.com   \n",
       "3    t29si1w   e9qf2dm          0   2spj6krt  300x250       www.cbssports.com   \n",
       "4    awbu4q4   oropida    lnqjhqm   ql1q5nq9  300x250    backroadramblers.com   \n",
       "\n",
       "   FoldPosition         Region           City  DeviceType  OSFamily  \\\n",
       "0             4       New York  Staten Island           4  5.000000   \n",
       "1             2  Massachusetts         Milton           4  5.000000   \n",
       "2             3       New York       Brooklyn           4  6.000000   \n",
       "3             4       New York         Queens           4  5.000000   \n",
       "4             3       New York      The Bronx           4  5.000000   \n",
       "\n",
       "          OS  Browser DeviceMake  AdvertiserCurrency  click  engagement  \\\n",
       "0 173.000000 7.000000      Apple            0.006409      0           0   \n",
       "1 173.000000 7.000000      Apple            0.002778      0           0   \n",
       "2 156.000000 6.000000    Samsung            0.008947      0           0   \n",
       "3 101.000000 7.000000      Apple            0.007673      0           0   \n",
       "4 101.000000 7.000000      Apple            0.008852      0           1   \n",
       "\n",
       "   video-end  video-start  engagement_rate  hour  \n",
       "0          0            0         0.000000     0  \n",
       "1          0            0         0.000000     2  \n",
       "2          0            0        16.000000    20  \n",
       "3          0            0         3.342569    16  \n",
       "4          1            1         5.000000    14  "
      ]
     },
     "execution_count": 15,
     "metadata": {},
     "output_type": "execute_result"
    }
   ],
   "source": [
    "df.head()"
   ]
  },
  {
   "cell_type": "code",
   "execution_count": 16,
   "id": "ac95ada0",
   "metadata": {},
   "outputs": [
    {
     "name": "stdout",
     "output_type": "stream",
     "text": [
      "<class 'pandas.core.frame.DataFrame'>\n",
      "Int64Index: 96518 entries, 0 to 99999\n",
      "Data columns (total 21 columns):\n",
      " #   Column              Non-Null Count  Dtype  \n",
      "---  ------              --------------  -----  \n",
      " 0   CampaignId          96518 non-null  object \n",
      " 1   AdGroupId           96518 non-null  object \n",
      " 2   AudienceID          96518 non-null  object \n",
      " 3   CreativeId          96518 non-null  object \n",
      " 4   AdFormat            96518 non-null  object \n",
      " 5   Site                96518 non-null  object \n",
      " 6   FoldPosition        96518 non-null  int64  \n",
      " 7   Region              96518 non-null  object \n",
      " 8   City                96518 non-null  object \n",
      " 9   DeviceType          96518 non-null  int64  \n",
      " 10  OSFamily            96518 non-null  float64\n",
      " 11  OS                  96518 non-null  float64\n",
      " 12  Browser             96518 non-null  float64\n",
      " 13  DeviceMake          96518 non-null  object \n",
      " 14  AdvertiserCurrency  96518 non-null  float64\n",
      " 15  click               96518 non-null  int64  \n",
      " 16  engagement          96518 non-null  int64  \n",
      " 17  video-end           96518 non-null  int64  \n",
      " 18  video-start         96518 non-null  int64  \n",
      " 19  engagement_rate     96518 non-null  float64\n",
      " 20  hour                96518 non-null  int64  \n",
      "dtypes: float64(5), int64(7), object(9)\n",
      "memory usage: 16.2+ MB\n"
     ]
    }
   ],
   "source": [
    "df.info()"
   ]
  },
  {
   "cell_type": "code",
   "execution_count": 17,
   "id": "e6f5644c",
   "metadata": {},
   "outputs": [],
   "source": [
    "#save data before encoding\n",
    "df.to_csv('../data/ad_data.csv')"
   ]
  },
  {
   "cell_type": "code",
   "execution_count": 18,
   "id": "a2ee91f9",
   "metadata": {},
   "outputs": [],
   "source": [
    "from sklearn import preprocessing\n",
    "le=preprocessing.LabelEncoder()\n",
    "\n",
    "num_columns = df.select_dtypes(include = [\"int64\",\"float64\"]).columns\n",
    "cat_columns = df.select_dtypes(include = [\"object\"]).columns\n",
    "\n",
    "#skip the CampaignId column\n",
    "for i in cat_columns:\n",
    "    if i == 'CampaignId' or i == 'Site':\n",
    "        pass\n",
    "    else:\n",
    "        df[i]=le.fit_transform(df[i].astype(str))"
   ]
  },
  {
   "cell_type": "code",
   "execution_count": 19,
   "id": "23e51907",
   "metadata": {},
   "outputs": [],
   "source": [
    "#data after encoding\n",
    "df.to_csv(\"../data/clean_data.csv\",index=False)"
   ]
  },
  {
   "cell_type": "code",
   "execution_count": 20,
   "id": "af3bbc26",
   "metadata": {
    "scrolled": true
   },
   "outputs": [
    {
     "data": {
      "text/html": [
       "<div>\n",
       "<style scoped>\n",
       "    .dataframe tbody tr th:only-of-type {\n",
       "        vertical-align: middle;\n",
       "    }\n",
       "\n",
       "    .dataframe tbody tr th {\n",
       "        vertical-align: top;\n",
       "    }\n",
       "\n",
       "    .dataframe thead th {\n",
       "        text-align: right;\n",
       "    }\n",
       "</style>\n",
       "<table border=\"1\" class=\"dataframe\">\n",
       "  <thead>\n",
       "    <tr style=\"text-align: right;\">\n",
       "      <th></th>\n",
       "      <th>CampaignId</th>\n",
       "      <th>AdGroupId</th>\n",
       "      <th>AudienceID</th>\n",
       "      <th>CreativeId</th>\n",
       "      <th>AdFormat</th>\n",
       "      <th>Site</th>\n",
       "      <th>FoldPosition</th>\n",
       "      <th>Region</th>\n",
       "      <th>City</th>\n",
       "      <th>DeviceType</th>\n",
       "      <th>OSFamily</th>\n",
       "      <th>OS</th>\n",
       "      <th>Browser</th>\n",
       "      <th>DeviceMake</th>\n",
       "      <th>AdvertiserCurrency</th>\n",
       "      <th>click</th>\n",
       "      <th>engagement</th>\n",
       "      <th>video-end</th>\n",
       "      <th>video-start</th>\n",
       "      <th>engagement_rate</th>\n",
       "      <th>hour</th>\n",
       "    </tr>\n",
       "  </thead>\n",
       "  <tbody>\n",
       "    <tr>\n",
       "      <th>18999</th>\n",
       "      <td>t29si1w</td>\n",
       "      <td>12</td>\n",
       "      <td>0</td>\n",
       "      <td>25</td>\n",
       "      <td>0</td>\n",
       "      <td>www.spendwithpennies.com</td>\n",
       "      <td>4</td>\n",
       "      <td>6</td>\n",
       "      <td>893</td>\n",
       "      <td>3</td>\n",
       "      <td>6.000000</td>\n",
       "      <td>154.000000</td>\n",
       "      <td>6.000000</td>\n",
       "      <td>75</td>\n",
       "      <td>0.007961</td>\n",
       "      <td>0</td>\n",
       "      <td>0</td>\n",
       "      <td>0</td>\n",
       "      <td>0</td>\n",
       "      <td>14.833333</td>\n",
       "      <td>16</td>\n",
       "    </tr>\n",
       "    <tr>\n",
       "      <th>51265</th>\n",
       "      <td>awbu4q4</td>\n",
       "      <td>18</td>\n",
       "      <td>3</td>\n",
       "      <td>80</td>\n",
       "      <td>0</td>\n",
       "      <td>nypost.com</td>\n",
       "      <td>3</td>\n",
       "      <td>7</td>\n",
       "      <td>1127</td>\n",
       "      <td>4</td>\n",
       "      <td>6.000000</td>\n",
       "      <td>162.000000</td>\n",
       "      <td>6.000000</td>\n",
       "      <td>32</td>\n",
       "      <td>0.011065</td>\n",
       "      <td>0</td>\n",
       "      <td>0</td>\n",
       "      <td>0</td>\n",
       "      <td>0</td>\n",
       "      <td>5.612613</td>\n",
       "      <td>6</td>\n",
       "    </tr>\n",
       "    <tr>\n",
       "      <th>37159</th>\n",
       "      <td>awbu4q4</td>\n",
       "      <td>18</td>\n",
       "      <td>3</td>\n",
       "      <td>212</td>\n",
       "      <td>0</td>\n",
       "      <td>www.familycantravel.com</td>\n",
       "      <td>2</td>\n",
       "      <td>7</td>\n",
       "      <td>764</td>\n",
       "      <td>4</td>\n",
       "      <td>6.000000</td>\n",
       "      <td>162.000000</td>\n",
       "      <td>6.000000</td>\n",
       "      <td>75</td>\n",
       "      <td>0.009164</td>\n",
       "      <td>0</td>\n",
       "      <td>0</td>\n",
       "      <td>0</td>\n",
       "      <td>0</td>\n",
       "      <td>0.000000</td>\n",
       "      <td>10</td>\n",
       "    </tr>\n",
       "    <tr>\n",
       "      <th>85235</th>\n",
       "      <td>awbu4q4</td>\n",
       "      <td>18</td>\n",
       "      <td>3</td>\n",
       "      <td>164</td>\n",
       "      <td>0</td>\n",
       "      <td>www.getyourholidayon.com</td>\n",
       "      <td>3</td>\n",
       "      <td>6</td>\n",
       "      <td>706</td>\n",
       "      <td>4</td>\n",
       "      <td>5.000000</td>\n",
       "      <td>174.000000</td>\n",
       "      <td>7.000000</td>\n",
       "      <td>8</td>\n",
       "      <td>0.009532</td>\n",
       "      <td>0</td>\n",
       "      <td>0</td>\n",
       "      <td>0</td>\n",
       "      <td>0</td>\n",
       "      <td>0.000000</td>\n",
       "      <td>4</td>\n",
       "    </tr>\n",
       "    <tr>\n",
       "      <th>55003</th>\n",
       "      <td>awbu4q4</td>\n",
       "      <td>18</td>\n",
       "      <td>3</td>\n",
       "      <td>218</td>\n",
       "      <td>0</td>\n",
       "      <td>insidethemagic.net</td>\n",
       "      <td>3</td>\n",
       "      <td>6</td>\n",
       "      <td>193</td>\n",
       "      <td>4</td>\n",
       "      <td>6.000000</td>\n",
       "      <td>162.000000</td>\n",
       "      <td>6.000000</td>\n",
       "      <td>75</td>\n",
       "      <td>0.009981</td>\n",
       "      <td>0</td>\n",
       "      <td>0</td>\n",
       "      <td>0</td>\n",
       "      <td>0</td>\n",
       "      <td>9.052632</td>\n",
       "      <td>2</td>\n",
       "    </tr>\n",
       "  </tbody>\n",
       "</table>\n",
       "</div>"
      ],
      "text/plain": [
       "      CampaignId  AdGroupId  AudienceID  CreativeId  AdFormat  \\\n",
       "18999    t29si1w         12           0          25         0   \n",
       "51265    awbu4q4         18           3          80         0   \n",
       "37159    awbu4q4         18           3         212         0   \n",
       "85235    awbu4q4         18           3         164         0   \n",
       "55003    awbu4q4         18           3         218         0   \n",
       "\n",
       "                           Site  FoldPosition  Region  City  DeviceType  \\\n",
       "18999  www.spendwithpennies.com             4       6   893           3   \n",
       "51265                nypost.com             3       7  1127           4   \n",
       "37159   www.familycantravel.com             2       7   764           4   \n",
       "85235  www.getyourholidayon.com             3       6   706           4   \n",
       "55003        insidethemagic.net             3       6   193           4   \n",
       "\n",
       "       OSFamily         OS  Browser  DeviceMake  AdvertiserCurrency  click  \\\n",
       "18999  6.000000 154.000000 6.000000          75            0.007961      0   \n",
       "51265  6.000000 162.000000 6.000000          32            0.011065      0   \n",
       "37159  6.000000 162.000000 6.000000          75            0.009164      0   \n",
       "85235  5.000000 174.000000 7.000000           8            0.009532      0   \n",
       "55003  6.000000 162.000000 6.000000          75            0.009981      0   \n",
       "\n",
       "       engagement  video-end  video-start  engagement_rate  hour  \n",
       "18999           0          0            0        14.833333    16  \n",
       "51265           0          0            0         5.612613     6  \n",
       "37159           0          0            0         0.000000    10  \n",
       "85235           0          0            0         0.000000     4  \n",
       "55003           0          0            0         9.052632     2  "
      ]
     },
     "execution_count": 20,
     "metadata": {},
     "output_type": "execute_result"
    }
   ],
   "source": [
    "df.sample(5)"
   ]
  },
  {
   "cell_type": "code",
   "execution_count": 21,
   "id": "ab1f48ee",
   "metadata": {},
   "outputs": [
    {
     "data": {
      "text/plain": [
       "CampaignId               13\n",
       "AdGroupId                25\n",
       "AudienceID                6\n",
       "CreativeId              282\n",
       "AdFormat                  2\n",
       "Site                   8407\n",
       "FoldPosition              3\n",
       "Region                   11\n",
       "City                   1291\n",
       "DeviceType                3\n",
       "OSFamily                  6\n",
       "OS                       49\n",
       "Browser                   8\n",
       "DeviceMake              130\n",
       "AdvertiserCurrency    54167\n",
       "click                     2\n",
       "engagement                2\n",
       "video-end                 2\n",
       "video-start               2\n",
       "engagement_rate         386\n",
       "hour                     24\n",
       "dtype: int64"
      ]
     },
     "execution_count": 21,
     "metadata": {},
     "output_type": "execute_result"
    }
   ],
   "source": [
    "#Finding number of unique values per column\n",
    "df.T.apply(lambda x: x.nunique(),axis=1)"
   ]
  },
  {
   "cell_type": "code",
   "execution_count": 22,
   "id": "d047f094",
   "metadata": {},
   "outputs": [
    {
     "data": {
      "text/plain": [
       "Index(['CampaignId', 'AdGroupId', 'AudienceID', 'CreativeId', 'AdFormat',\n",
       "       'Site', 'FoldPosition', 'Region', 'City', 'DeviceType', 'OSFamily',\n",
       "       'OS', 'Browser', 'DeviceMake', 'AdvertiserCurrency', 'click',\n",
       "       'engagement', 'video-end', 'video-start', 'engagement_rate', 'hour'],\n",
       "      dtype='object')"
      ]
     },
     "execution_count": 22,
     "metadata": {},
     "output_type": "execute_result"
    }
   ],
   "source": [
    "df.columns"
   ]
  },
  {
   "cell_type": "markdown",
   "id": "46610e35",
   "metadata": {},
   "source": [
    "<h2> Task 1 </h2>\n",
    "\n",
    "Write a function that:\n",
    "\n",
    "- Accepts a campaignId as an input\n",
    "- Filters the data by the campaignId provided\n",
    "- Assign a score to each site\n",
    "- Sort the data by the assigned score"
   ]
  },
  {
   "cell_type": "code",
   "execution_count": 23,
   "id": "a7a74291",
   "metadata": {},
   "outputs": [],
   "source": [
    "sc = StandardScaler()\n",
    "model = LogisticRegression()\n",
    "def site_scores(campaignid:str):\n",
    "    campaign = df.loc[df['CampaignId']== campaignid]\n",
    "    campaign.drop(['CampaignId'],axis = 1, inplace = True)\n",
    "    site = campaign.groupby('Site').agg({'AdGroupId':'mean','AudienceID':'mean','AdFormat':'mean','FoldPosition':'mean', 'Region':'mean', \n",
    "                          'City':'mean', 'DeviceType':'mean', 'OSFamily':'mean', 'OS':'mean','Browser':'mean',\n",
    "                          'DeviceMake':'mean', 'AdvertiserCurrency':'mean', 'click':'mean', 'engagement':'mean',\n",
    "                          'video-end':'mean', 'video-start':'mean', 'engagement_rate':'mean', 'hour':'mean'}).reset_index()\n",
    "    #site.drop('Site',axis = 1, inplace = True)\n",
    "    site.loc[site['engagement'] < 0.5, 'engagement'] = 0\n",
    "    site.loc[site['engagement'] >= 0.5, 'engagement'] = 1\n",
    "    X = site.drop(['engagement','Site'], axis = 1)\n",
    "    X = sc.fit_transform(X)\n",
    "    y = site['engagement']\n",
    "    model.fit(X,y)\n",
    "    scores = 100*(model.predict_proba(X)[:,1])\n",
    "\n",
    "    sites =pd.DataFrame(site.Site)\n",
    "    score = pd.DataFrame(scores)\n",
    "    data = pd.concat([sites,score],axis = 1)\n",
    "    data.columns = ['Site','Score']\n",
    "    data.Score = data.Score.round(2)\n",
    "    data.sort_values(by = 'Score', ascending = False, inplace = True)\n",
    "    data.reset_index(drop = True,inplace = True)\n",
    "    return data"
   ]
  },
  {
   "cell_type": "code",
   "execution_count": 24,
   "id": "31c3f9d8",
   "metadata": {},
   "outputs": [
    {
     "data": {
      "text/plain": [
       "array(['t29si1w', 'fiwemi8', 'awbu4q4', 'v0fbymt', 'dnpjc6c', '9n6o7jf',\n",
       "       '758ifo0', 'shg01yl', '8muucqy', 'xygdmea', '0k2sw7w', 'z5cjizq',\n",
       "       '5qtwg2a'], dtype=object)"
      ]
     },
     "execution_count": 24,
     "metadata": {},
     "output_type": "execute_result"
    }
   ],
   "source": [
    "df.CampaignId.unique()"
   ]
  },
  {
   "cell_type": "code",
   "execution_count": 25,
   "id": "a8fb3828",
   "metadata": {},
   "outputs": [
    {
     "data": {
      "text/plain": [
       "0              {\"Site\":\"eso-sets.com\",\"Score\":100.0}\n",
       "1         {\"Site\":\"bakingamoment.com\",\"Score\":100.0}\n",
       "2            {\"Site\":\"www.entoin.com\",\"Score\":100.0}\n",
       "3           {\"Site\":\"www.eatperu.com\",\"Score\":100.0}\n",
       "4          {\"Site\":\"www.inquirer.com\",\"Score\":100.0}\n",
       "                           ...                      \n",
       "833           {\"Site\":\"dailycannon.com\",\"Score\":0.0}\n",
       "834         {\"Site\":\"altarofgaming.com\",\"Score\":0.0}\n",
       "835     {\"Site\":\"sidehustlingmoney.com\",\"Score\":0.0}\n",
       "836    {\"Site\":\"thisitaliankitchen.com\",\"Score\":0.0}\n",
       "837        {\"Site\":\"whatsdavedoing.com\",\"Score\":0.0}\n",
       "Length: 838, dtype: object"
      ]
     },
     "execution_count": 25,
     "metadata": {},
     "output_type": "execute_result"
    }
   ],
   "source": [
    "out =site_scores('fiwemi8')\n",
    "put=out.apply(lambda x: x.to_json(), axis=1)\n",
    "put"
   ]
  }
 ],
 "metadata": {
  "kernelspec": {
   "display_name": "Python 3",
   "language": "python",
   "name": "python3"
  },
  "language_info": {
   "codemirror_mode": {
    "name": "ipython",
    "version": 3
   },
   "file_extension": ".py",
   "mimetype": "text/x-python",
   "name": "python",
   "nbconvert_exporter": "python",
   "pygments_lexer": "ipython3",
   "version": "3.7.4"
  }
 },
 "nbformat": 4,
 "nbformat_minor": 5
}
